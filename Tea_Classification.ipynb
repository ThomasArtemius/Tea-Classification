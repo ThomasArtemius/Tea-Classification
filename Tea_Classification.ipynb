{
  "nbformat": 4,
  "nbformat_minor": 0,
  "metadata": {
    "colab": {
      "provenance": []
    },
    "kernelspec": {
      "name": "python3",
      "display_name": "Python 3"
    },
    "language_info": {
      "name": "python"
    }
  },
  "cells": [
    {
      "cell_type": "markdown",
      "source": [
        "# Import Library"
      ],
      "metadata": {
        "id": "KmX2yXbswIgW"
      }
    },
    {
      "cell_type": "code",
      "source": [
        "import os\n",
        "import zipfile\n",
        "import pandas as pd\n",
        "import numpy as np\n",
        "from scipy.stats import skew, kurtosis\n",
        "import torch\n",
        "from torch.utils.data import Dataset\n",
        "from sklearn.preprocessing import StandardScaler\n",
        "from sklearn.model_selection import GridSearchCV, StratifiedKFold\n",
        "from sklearn.linear_model import LogisticRegression\n",
        "from sklearn.svm import SVC\n",
        "from sklearn.ensemble import RandomForestClassifier\n",
        "from sklearn.pipeline import Pipeline\n",
        "from sklearn.metrics import classification_report, confusion_matrix, accuracy_score\n",
        "import matplotlib.pyplot as plt\n",
        "import seaborn as sns\n",
        "import shutil"
      ],
      "metadata": {
        "id": "VmN5hTonLNqr"
      },
      "execution_count": null,
      "outputs": []
    },
    {
      "cell_type": "markdown",
      "source": [
        "# Import Data"
      ],
      "metadata": {
        "id": "DeX9Tw3dwLzE"
      }
    },
    {
      "cell_type": "code",
      "source": [
        "ZIP_FILE_NAME = \"Teh_Reconstructed.zip\"\n",
        "EXTRACT_TO_FOLDER = \"Teh_Reconstructed_Data_FE\"\n",
        "TEA_TYPES = [\"BOHEA\", \"BOP\", \"PF\"]\n",
        "LABEL_MAP = {tea: i for i, tea in enumerate(TEA_TYPES)}\n",
        "CV_FOLDS = 3"
      ],
      "metadata": {
        "id": "R_A2hZBVLOrb"
      },
      "execution_count": null,
      "outputs": []
    },
    {
      "cell_type": "markdown",
      "source": [
        "# Feature Engineering"
      ],
      "metadata": {
        "id": "XPWUnm2iwT3V"
      }
    },
    {
      "cell_type": "code",
      "source": [
        "def extract_features_from_series(series_data_np):\n",
        "    features = []\n",
        "    s_std = np.std(series_data_np)\n",
        "\n",
        "    features.append(np.mean(series_data_np))\n",
        "    features.append(s_std)\n",
        "    features.append(np.median(series_data_np))\n",
        "    features.append(np.min(series_data_np))\n",
        "    features.append(np.max(series_data_np))\n",
        "    features.append(np.max(series_data_np) - np.min(series_data_np))\n",
        "    features.append(np.percentile(series_data_np, 25))\n",
        "    features.append(np.percentile(series_data_np, 75))\n",
        "    features.append(np.percentile(series_data_np, 75) - np.percentile(series_data_np, 25)) # IQR\n",
        "\n",
        "    # Handle cases with zero or near-zero standard deviation for skew and kurtosis\n",
        "    if s_std < 1e-9:\n",
        "        features.append(0.0)  # Skewness for constant data\n",
        "        features.append(0.0)  # Fisher Kurtosis for constant data (normal is 0, so flat is also 0)\n",
        "    else:\n",
        "        features.append(skew(series_data_np))\n",
        "        features.append(kurtosis(series_data_np)) # scipy.stats.kurtosis is Fisher's (normal = 0)\n",
        "    return features"
      ],
      "metadata": {
        "id": "LxkiAlH2LQLC"
      },
      "execution_count": null,
      "outputs": []
    },
    {
      "cell_type": "code",
      "source": [
        "def extract_features_from_file_df(df):\n",
        "    all_sensor_features = []\n",
        "    if df.empty: # Handle empty dataframe case\n",
        "        print(\"Warning: Encountered an empty DataFrame during feature extraction.\")\n",
        "        return np.full(11 * 6, np.nan)\n",
        "\n",
        "    for col in df.columns:\n",
        "        sensor_series = df[col].values\n",
        "        if np.all(np.isnan(sensor_series)):\n",
        "            print(f\"Warning: Sensor column {col} contains all NaNs. Appending NaNs for its features.\")\n",
        "            all_sensor_features.extend([np.nan] * 11)\n",
        "        else:\n",
        "            all_sensor_features.extend(extract_features_from_series(sensor_series))\n",
        "    return np.array(all_sensor_features)"
      ],
      "metadata": {
        "id": "l_m6-PE-LSMb"
      },
      "execution_count": null,
      "outputs": []
    },
    {
      "cell_type": "code",
      "source": [
        "class TeaFeatureDataset(Dataset):\n",
        "    def __init__(self, file_paths, labels):\n",
        "        self.file_paths = file_paths\n",
        "        self.labels = labels\n",
        "        self.num_original_features = 0\n",
        "        self.num_engineered_features_per_sensor = 11\n",
        "\n",
        "    def __len__(self):\n",
        "        return len(self.file_paths)\n",
        "\n",
        "    def __getitem__(self, idx):\n",
        "        file_path = self.file_paths[idx]\n",
        "        label = self.labels[idx]\n",
        "\n",
        "        try:\n",
        "            df = pd.read_csv(file_path)\n",
        "            if df.empty:\n",
        "                print(f\"Warning: Loaded empty CSV: {file_path}\")\n",
        "                 # Create a dummy feature vector of NaNs if df is empty\n",
        "                engineered_features = np.full(self.num_engineered_features_per_sensor * 6, np.nan) # 6 original features\n",
        "            else:\n",
        "                if idx == 0 and self.num_original_features == 0:\n",
        "                    self.num_original_features = df.shape[1]\n",
        "                engineered_features = extract_features_from_file_df(df)\n",
        "        except pd.errors.EmptyDataError:\n",
        "            print(f\"Warning: CSV file {file_path} is empty or unreadable.\")\n",
        "            # Create a dummy feature vector of NaNs\n",
        "            num_expected_original_features = 6 # Fallback if num_original_features not set\n",
        "            engineered_features = np.full(self.num_engineered_features_per_sensor * num_expected_original_features, np.nan)\n",
        "\n",
        "\n",
        "        return torch.FloatTensor(engineered_features), torch.LongTensor([label]).squeeze()\n",
        "\n",
        "    def get_feature_names(self):\n",
        "        if not self.file_paths: return []\n",
        "\n",
        "        try:\n",
        "            sensor_cols = pd.read_csv(self.file_paths[0]).columns\n",
        "            self.num_original_features = len(sensor_cols)\n",
        "        except Exception:\n",
        "            # Fallback if first file is problematic, assume standard names or count\n",
        "            print(\"Warning: Could not read first file for sensor names. Using generic names.\")\n",
        "            sensor_cols = [f\"Sensor_{i+1}\" for i in range(6)]\n",
        "            self.num_original_features = 6\n",
        "\n",
        "\n",
        "        feature_names_raw = [\"mean\", \"std\", \"median\", \"min\", \"max\", \"range\", \"p25\", \"p75\", \"iqr\", \"skew\", \"kurtosis\"]\n",
        "\n",
        "        full_feature_names = []\n",
        "        for sensor_name in sensor_cols:\n",
        "            for feat_name in feature_names_raw:\n",
        "                full_feature_names.append(f\"{sensor_name.replace(' ', '_')}_{feat_name}\")\n",
        "        return full_feature_names"
      ],
      "metadata": {
        "id": "193csrI0LVjr"
      },
      "execution_count": null,
      "outputs": []
    },
    {
      "cell_type": "code",
      "source": [
        "def get_file_paths_and_labels(data_root_folder, subset_folder_name):\n",
        "    file_paths = []\n",
        "    labels = []\n",
        "    subset_path = os.path.join(data_root_folder, subset_folder_name)\n",
        "\n",
        "    for tea_type in TEA_TYPES:\n",
        "        tea_folder_path = os.path.join(subset_path, tea_type)\n",
        "        if not os.path.exists(tea_folder_path):\n",
        "            print(f\"Warning: Folder not found {tea_folder_path}\")\n",
        "            continue\n",
        "        for filename in sorted(os.listdir(tea_folder_path)):\n",
        "            if filename.endswith(\".csv\"):\n",
        "                file_paths.append(os.path.join(tea_folder_path, filename))\n",
        "                labels.append(LABEL_MAP[tea_type])\n",
        "    return file_paths, labels"
      ],
      "metadata": {
        "id": "GIRNw33NLXVj"
      },
      "execution_count": null,
      "outputs": []
    },
    {
      "cell_type": "markdown",
      "source": [
        "# Run The Code"
      ],
      "metadata": {
        "id": "_2_vN0oPwZzb"
      }
    },
    {
      "cell_type": "code",
      "source": [
        "def main():\n",
        "    if os.path.exists(EXTRACT_TO_FOLDER):\n",
        "        print(f\"Removing existing extracted folder: {EXTRACT_TO_FOLDER}\")\n",
        "        shutil.rmtree(EXTRACT_TO_FOLDER)\n",
        "\n",
        "    if not os.path.exists(ZIP_FILE_NAME):\n",
        "        print(f\"Error: {ZIP_FILE_NAME} not found. Please place it in the script's directory.\")\n",
        "        return\n",
        "\n",
        "    print(f\"Extracting {ZIP_FILE_NAME} to {EXTRACT_TO_FOLDER}...\")\n",
        "    with zipfile.ZipFile(ZIP_FILE_NAME, 'r') as zip_ref:\n",
        "        zip_ref.extractall(EXTRACT_TO_FOLDER)\n",
        "    print(\"Extraction complete.\")\n",
        "\n",
        "    data_root = EXTRACT_TO_FOLDER\n",
        "\n",
        "    train_files, train_labels_list = get_file_paths_and_labels(data_root, \"Train\")\n",
        "    val_files, val_labels_list = get_file_paths_and_labels(data_root, \"Validation\")\n",
        "    test_files, test_labels_list = get_file_paths_and_labels(data_root, \"Test\")\n",
        "\n",
        "    if not train_files:\n",
        "        print(\"No training files found. Check zip structure and paths.\")\n",
        "        return\n",
        "\n",
        "    print(f\"Found {len(train_files)} training files, {len(val_files)} validation files, {len(test_files)} test files.\")\n",
        "\n",
        "    train_feature_dataset = TeaFeatureDataset(train_files, train_labels_list)\n",
        "    feature_names = train_feature_dataset.get_feature_names()\n",
        "    print(f\"Number of engineered features: {len(feature_names)}\")\n",
        "\n",
        "\n",
        "    X_train_fe_list = []\n",
        "    for i in range(len(train_feature_dataset)):\n",
        "        features, _ = train_feature_dataset[i]\n",
        "        X_train_fe_list.append(features.numpy())\n",
        "    X_train_fe = np.array(X_train_fe_list)\n",
        "    y_train = np.array([train_feature_dataset[i][1].numpy() for i in range(len(train_feature_dataset))])\n",
        "\n",
        "    val_feature_dataset = TeaFeatureDataset(val_files, val_labels_list)\n",
        "    X_val_fe_list = []\n",
        "    for i in range(len(val_feature_dataset)):\n",
        "        features, _ = val_feature_dataset[i]\n",
        "        X_val_fe_list.append(features.numpy())\n",
        "    X_val_fe = np.array(X_val_fe_list)\n",
        "    y_val = np.array([val_feature_dataset[i][1].numpy() for i in range(len(val_feature_dataset))])\n",
        "\n",
        "    test_feature_dataset = TeaFeatureDataset(test_files, test_labels_list)\n",
        "    X_test_fe_list = []\n",
        "    for i in range(len(test_feature_dataset)):\n",
        "        features, _ = test_feature_dataset[i]\n",
        "        X_test_fe_list.append(features.numpy())\n",
        "    X_test_fe = np.array(X_test_fe_list)\n",
        "    y_test = np.array([test_feature_dataset[i][1].numpy() for i in range(len(test_feature_dataset))])\n",
        "\n",
        "    print(f\"Shape of engineered training features: {X_train_fe.shape}\")\n",
        "\n",
        "    # --- Handle NaNs from feature extraction before scaling ---\n",
        "    print(f\"NaNs in X_train_fe BEFORE imputation: {np.isnan(X_train_fe).sum()}\")\n",
        "    X_train_fe = np.nan_to_num(X_train_fe, nan=0.0, posinf=0.0, neginf=0.0)\n",
        "    X_val_fe = np.nan_to_num(X_val_fe, nan=0.0, posinf=0.0, neginf=0.0)\n",
        "    X_test_fe = np.nan_to_num(X_test_fe, nan=0.0, posinf=0.0, neginf=0.0)\n",
        "    print(f\"NaNs in X_train_fe AFTER imputation: {np.isnan(X_train_fe).sum()}\")\n",
        "\n",
        "\n",
        "    scaler = StandardScaler()\n",
        "    X_train_scaled = scaler.fit_transform(X_train_fe)\n",
        "    X_val_scaled = scaler.transform(X_val_fe)\n",
        "    X_test_scaled = scaler.transform(X_test_fe)\n",
        "\n",
        "    # Additional check for NaNs after scaling (e.g., if a feature had 0 std dev in training)\n",
        "    if np.isnan(X_train_scaled).any() or np.isinf(X_train_scaled).any():\n",
        "        print(\"Warning: NaNs or Infs found in X_train_scaled. Imputing with 0.\")\n",
        "        X_train_scaled = np.nan_to_num(X_train_scaled, nan=0.0, posinf=0.0, neginf=0.0)\n",
        "    if np.isnan(X_val_scaled).any() or np.isinf(X_val_scaled).any():\n",
        "        print(\"Warning: NaNs or Infs found in X_val_scaled. Imputing with 0.\")\n",
        "        X_val_scaled = np.nan_to_num(X_val_scaled, nan=0.0, posinf=0.0, neginf=0.0)\n",
        "    if np.isnan(X_test_scaled).any() or np.isinf(X_test_scaled).any():\n",
        "        print(\"Warning: NaNs or Infs found in X_test_scaled. Imputing with 0.\")\n",
        "        X_test_scaled = np.nan_to_num(X_test_scaled, nan=0.0, posinf=0.0, neginf=0.0)\n",
        "\n",
        "    classifiers = {\n",
        "        \"Logistic Regression\": LogisticRegression(max_iter=2000, solver='liblinear', class_weight='balanced', random_state=42),\n",
        "        \"SVC\": SVC(probability=True, class_weight='balanced', random_state=42),\n",
        "        \"Random Forest\": RandomForestClassifier(class_weight='balanced', random_state=42)\n",
        "    }\n",
        "\n",
        "    param_grids = {\n",
        "        \"Logistic Regression\": {'C': [0.01, 0.1, 1, 10, 100]},\n",
        "        \"SVC\": {'C': [0.1, 1, 10], 'gamma': ['scale', 'auto'], 'kernel': ['linear', 'rbf']},\n",
        "        \"Random Forest\": {'n_estimators': [50, 100], 'max_depth': [None, 5, 10], 'min_samples_split': [2, 5]}\n",
        "    }\n",
        "\n",
        "    best_estimators = {}\n",
        "\n",
        "    min_class_count_train = np.min(np.unique(y_train, return_counts=True)[1]) if len(y_train) > 0 else 0\n",
        "    actual_cv_folds = min(CV_FOLDS, min_class_count_train)\n",
        "\n",
        "    if actual_cv_folds < 2 and len(y_train) > 0 :\n",
        "        print(f\"Warning: min_class_count_train ({min_class_count_train}) or total samples is too small for {CV_FOLDS}-fold CV. Setting to direct fit.\")\n",
        "        stratified_kfold_cv = None\n",
        "    elif len(y_train) == 0:\n",
        "        print(\"Error: No training labels available. Cannot proceed with training.\")\n",
        "        return\n",
        "    else:\n",
        "        stratified_kfold_cv = StratifiedKFold(n_splits=actual_cv_folds, shuffle=True, random_state=42)\n",
        "\n",
        "    print(\"\\n--- Training and Evaluating Classifiers (with GridSearchCV) ---\")\n",
        "    for name, clf_template in classifiers.items():\n",
        "        print(f\"\\nTraining {name}...\")\n",
        "        if stratified_kfold_cv:\n",
        "            grid_search = GridSearchCV(clf_template, param_grids[name], cv=stratified_kfold_cv, scoring='accuracy', n_jobs=-1, error_score='raise')\n",
        "            try:\n",
        "                grid_search.fit(X_train_scaled, y_train)\n",
        "                best_estimators[name] = grid_search.best_estimator_\n",
        "                print(f\"Best parameters for {name}: {grid_search.best_params_}\")\n",
        "                print(f\"Best CV accuracy for {name}: {grid_search.best_score_:.4f}\")\n",
        "\n",
        "                if len(X_val_scaled) > 0:\n",
        "                    val_preds = best_estimators[name].predict(X_val_scaled)\n",
        "                    val_acc = accuracy_score(y_val, val_preds)\n",
        "                    print(f\"Validation Accuracy for tuned {name}: {val_acc:.4f}\")\n",
        "                else:\n",
        "                    print(\"No validation data to evaluate tuned model.\")\n",
        "\n",
        "            except ValueError as e:\n",
        "                print(f\"ValueError during GridSearchCV for {name}: {e}\")\n",
        "                print(\"This might be due to NaNs or Infs in the data. Check previous imputation steps.\")\n",
        "                best_estimators[name] = None\n",
        "        else:\n",
        "            print(f\"Fitting {name} directly (no CV).\")\n",
        "            try:\n",
        "                clf_instance = clf_template\n",
        "                clf_instance.fit(X_train_scaled, y_train)\n",
        "                best_estimators[name] = clf_instance\n",
        "                if len(X_val_scaled) > 0:\n",
        "                    val_preds = best_estimators[name].predict(X_val_scaled)\n",
        "                    val_acc = accuracy_score(y_val, val_preds)\n",
        "                    print(f\"Validation Accuracy for {name} (direct fit): {val_acc:.4f}\")\n",
        "                else:\n",
        "                    print(\"No validation data to evaluate model.\")\n",
        "            except ValueError as e:\n",
        "                print(f\"ValueError during direct fit for {name}: {e}\")\n",
        "                best_estimators[name] = None\n",
        "\n",
        "\n",
        "    print(\"\\n--- Final Evaluation on Test Set ---\")\n",
        "    if not X_test_scaled.size > 0:\n",
        "        print(\"No test data to evaluate.\")\n",
        "    else:\n",
        "        for name, estimator in best_estimators.items():\n",
        "            if estimator is None:\n",
        "                print(f\"Skipping {name} due to previous training error.\")\n",
        "                continue\n",
        "            print(f\"\\n--- {name} Test Set Performance ---\")\n",
        "            try:\n",
        "                test_preds = estimator.predict(X_test_scaled)\n",
        "                test_acc = accuracy_score(y_test, test_preds)\n",
        "                print(f\"Test Accuracy: {test_acc:.4f}\")\n",
        "\n",
        "                print(\"\\nClassification Report (Test Set):\")\n",
        "                print(classification_report(y_test, test_preds, target_names=TEA_TYPES, zero_division=0))\n",
        "\n",
        "                print(\"\\nConfusion Matrix (Test Set):\")\n",
        "                cm = confusion_matrix(y_test, test_preds, labels=list(LABEL_MAP.values()))\n",
        "                plt.figure(figsize=(6, 4))\n",
        "                sns.heatmap(cm, annot=True, fmt='d', cmap='Blues',\n",
        "                            xticklabels=TEA_TYPES, yticklabels=TEA_TYPES)\n",
        "                plt.xlabel('Predicted Label')\n",
        "                plt.ylabel('True Label')\n",
        "                plt.title(f'Confusion Matrix - {name} (Test Set)')\n",
        "                plt.show()\n",
        "            except Exception as e:\n",
        "                 print(f\"Error during testing for {name}: {e}\")\n",
        "\n",
        "\n",
        "    if os.path.exists(EXTRACT_TO_FOLDER):\n",
        "        print(f\"\\nCleaning up extracted data: {EXTRACT_TO_FOLDER}\")\n",
        "        shutil.rmtree(EXTRACT_TO_FOLDER)\n",
        "\n",
        "if __name__ == \"__main__\":\n",
        "    main()"
      ],
      "metadata": {
        "colab": {
          "base_uri": "https://localhost:8080/",
          "height": 1000
        },
        "id": "bXznvqxN-R3u",
        "outputId": "9c7e69df-235b-4429-83a0-07bbe105a50f"
      },
      "execution_count": null,
      "outputs": [
        {
          "output_type": "stream",
          "name": "stdout",
          "text": [
            "Extracting Teh_Reconstructed.zip to Teh_Reconstructed_Data_FE...\n",
            "Extraction complete.\n",
            "Found 24 training files, 6 validation files, 15 test files.\n",
            "Number of engineered features: 66\n",
            "Shape of engineered training features: (24, 66)\n",
            "NaNs in X_train_fe BEFORE imputation: 0\n",
            "NaNs in X_train_fe AFTER imputation: 0\n",
            "\n",
            "--- Training and Evaluating Classifiers (with GridSearchCV) ---\n",
            "\n",
            "Training Logistic Regression...\n",
            "Best parameters for Logistic Regression: {'C': 0.1}\n",
            "Best CV accuracy for Logistic Regression: 1.0000\n",
            "Validation Accuracy for tuned Logistic Regression: 1.0000\n",
            "\n",
            "Training SVC...\n",
            "Best parameters for SVC: {'C': 0.1, 'gamma': 'scale', 'kernel': 'linear'}\n",
            "Best CV accuracy for SVC: 1.0000\n",
            "Validation Accuracy for tuned SVC: 1.0000\n",
            "\n",
            "Training Random Forest...\n",
            "Best parameters for Random Forest: {'max_depth': None, 'min_samples_split': 2, 'n_estimators': 100}\n",
            "Best CV accuracy for Random Forest: 1.0000\n",
            "Validation Accuracy for tuned Random Forest: 1.0000\n",
            "\n",
            "--- Final Evaluation on Test Set ---\n",
            "\n",
            "--- Logistic Regression Test Set Performance ---\n",
            "Test Accuracy: 0.9333\n",
            "\n",
            "Classification Report (Test Set):\n",
            "              precision    recall  f1-score   support\n",
            "\n",
            "       BOHEA       1.00      1.00      1.00         5\n",
            "         BOP       0.83      1.00      0.91         5\n",
            "          PF       1.00      0.80      0.89         5\n",
            "\n",
            "    accuracy                           0.93        15\n",
            "   macro avg       0.94      0.93      0.93        15\n",
            "weighted avg       0.94      0.93      0.93        15\n",
            "\n",
            "\n",
            "Confusion Matrix (Test Set):\n"
          ]
        },
        {
          "output_type": "display_data",
          "data": {
            "text/plain": [
              "<Figure size 600x400 with 2 Axes>"
            ],
            "image/png": "[encoded data removed]"
          },
          "metadata": {}
        },
        {
          "output_type": "stream",
          "name": "stdout",
          "text": [
            "\n",
            "--- SVC Test Set Performance ---\n",
            "Test Accuracy: 0.8667\n",
            "\n",
            "Classification Report (Test Set):\n",
            "              precision    recall  f1-score   support\n",
            "\n",
            "       BOHEA       1.00      1.00      1.00         5\n",
            "         BOP       0.71      1.00      0.83         5\n",
            "          PF       1.00      0.60      0.75         5\n",
            "\n",
            "    accuracy                           0.87        15\n",
            "   macro avg       0.90      0.87      0.86        15\n",
            "weighted avg       0.90      0.87      0.86        15\n",
            "\n",
            "\n",
            "Confusion Matrix (Test Set):\n"
          ]
        },
        {
          "output_type": "display_data",
          "data": {
            "text/plain": [
              "<Figure size 600x400 with 2 Axes>"
            ],
            "image/png": "[encoded data removed]"
          },
          "metadata": {}
        },
        {
          "output_type": "stream",
          "name": "stdout",
          "text": [
            "\n",
            "--- Random Forest Test Set Performance ---\n",
            "Test Accuracy: 1.0000\n",
            "\n",
            "Classification Report (Test Set):\n",
            "              precision    recall  f1-score   support\n",
            "\n",
            "       BOHEA       1.00      1.00      1.00         5\n",
            "         BOP       1.00      1.00      1.00         5\n",
            "          PF       1.00      1.00      1.00         5\n",
            "\n",
            "    accuracy                           1.00        15\n",
            "   macro avg       1.00      1.00      1.00        15\n",
            "weighted avg       1.00      1.00      1.00        15\n",
            "\n",
            "\n",
            "Confusion Matrix (Test Set):\n"
          ]
        },
        {
          "output_type": "display_data",
          "data": {
            "text/plain": [
              "<Figure size 600x400 with 2 Axes>"
            ],
            "image/png": "[encoded data removed]"
          },
          "metadata": {}
        },
        {
          "output_type": "stream",
          "name": "stdout",
          "text": [
            "\n",
            "Cleaning up extracted data: Teh_Reconstructed_Data_FE\n"
          ]
        }
      ]
    }
  ]
}